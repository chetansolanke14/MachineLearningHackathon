{
 "cells": [
  {
   "cell_type": "code",
   "execution_count": 2,
   "metadata": {},
   "outputs": [
    {
     "name": "stderr",
     "output_type": "stream",
     "text": [
      "/anaconda3/envs/python-cvcourse/lib/python3.6/site-packages/sklearn/ensemble/weight_boosting.py:29: DeprecationWarning: numpy.core.umath_tests is an internal NumPy module and should not be imported. It will be removed in a future NumPy release.\n",
      "  from numpy.core.umath_tests import inner1d\n"
     ]
    }
   ],
   "source": [
    "#Import SK Learn libraries as well as panda numpy and plotting\n",
    "import numpy as np\n",
    "import pandas as pd\n",
    "from sklearn.preprocessing import StandardScaler\n",
    "from sklearn.tree import DecisionTreeClassifier\n",
    "from sklearn.neighbors import KNeighborsClassifier\n",
    "from sklearn.model_selection import train_test_split,GridSearchCV\n",
    "from sklearn.metrics import accuracy_score, confusion_matrix\n",
    "from sklearn.metrics import classification_report, f1_score\n",
    "from sklearn.linear_model import LogisticRegression,RidgeClassifier\n",
    "from sklearn.ensemble import RandomForestClassifier\n",
    "import matplotlib.pyplot as plt\n",
    "from sklearn.preprocessing import Imputer\n",
    "%matplotlib inline"
   ]
  },
  {
   "cell_type": "markdown",
   "metadata": {},
   "source": [
    "### Load Data\n",
    "Load Banking behavioral data to predict the credit risk: \n",
    "\n",
    "We have created 3 dataframe test, train and sample submission"
   ]
  },
  {
   "cell_type": "code",
   "execution_count": 3,
   "metadata": {},
   "outputs": [
    {
     "name": "stderr",
     "output_type": "stream",
     "text": [
      "/anaconda3/envs/python-cvcourse/lib/python3.6/site-packages/IPython/core/interactiveshell.py:2785: DtypeWarning: Columns (746,835) have mixed types. Specify dtype option on import or set low_memory=False.\n",
      "  interactivity=interactivity, compiler=compiler, result=result)\n",
      "/anaconda3/envs/python-cvcourse/lib/python3.6/site-packages/IPython/core/interactiveshell.py:2785: DtypeWarning: Columns (700,731,740,752,761,789,811,820,829,841,850) have mixed types. Specify dtype option on import or set low_memory=False.\n",
      "  interactivity=interactivity, compiler=compiler, result=result)\n"
     ]
    }
   ],
   "source": [
    "bank_train = pd.read_csv('/Users/chetu/Downloads/DataSet 2/Train.csv')\n",
    "bank_test = pd.read_csv('/Users/chetu/Downloads/DataSet 2/Test.csv')\n",
    "bank_sample = pd.read_csv('/Users/chetu/Downloads/DataSet 2/Sample_submission.csv')"
   ]
  },
  {
   "cell_type": "markdown",
   "metadata": {},
   "source": [
    "Look data sample for training and testing data"
   ]
  },
  {
   "cell_type": "code",
   "execution_count": 4,
   "metadata": {},
   "outputs": [
    {
     "name": "stdout",
     "output_type": "stream",
     "text": [
      "========== Training Data\n",
      "        Col1  Col2          Col3          Col4          Col5          Col6  \\\n",
      "0    RIGHGSN     1  1.086711e+04  8.648345e+03  1.576618e+04  2.890466e+04   \n",
      "1  RIMHI5ZGP     0  2.584312e+05  2.179633e+05  1.866287e+05  1.866287e+05   \n",
      "2  RIHOG1SZU     0  1.459355e+07  1.260060e+07  1.100315e+07  1.010315e+07   \n",
      "3  RIHOLMQWU     0  6.727043e+05  8.181116e+05  6.794893e+05  6.794893e+05   \n",
      "4  RIHO584ET     0 -1.218742e+06 -3.005361e+06 -1.666241e+05 -2.403574e+06   \n",
      "\n",
      "           Col7          Col8          Col9         Col10   ...     Col2388  \\\n",
      "0  5.273655e+03  2.346153e+04  1.285597e+04  2.871509e+04   ...           0   \n",
      "1  2.154519e+05  1.923615e+05  1.726538e+05  1.666974e+05   ...           0   \n",
      "2  1.879882e+07  1.514035e+07  5.320778e+06  6.906324e+06   ...           0   \n",
      "3  8.257254e+05  7.605803e+05  3.577134e+05  4.236612e+05   ...           0   \n",
      "4  2.583183e+06  2.086546e+06  5.938358e+06  5.446532e+06   ...           0   \n",
      "\n",
      "   Col2389  Col2390  Col2391  Col2392  Col2393  Col2394  Col2395  Col2396  \\\n",
      "0        1        0        1    214.0    214.0     68.0     22.0     22.0   \n",
      "1        0        0        0     41.0     41.0     38.0     12.0     12.0   \n",
      "2        1        1        0    378.0    378.0    310.0     21.0     21.0   \n",
      "3        0        0        0    702.0    702.0    644.0    951.0    951.0   \n",
      "4        0        0        0   1305.0   1305.0   1211.0   2205.0   2205.0   \n",
      "\n",
      "   Col2397  \n",
      "0      7.0  \n",
      "1     11.0  \n",
      "2     16.0  \n",
      "3    743.0  \n",
      "4   1831.0  \n",
      "\n",
      "[5 rows x 2395 columns]\n",
      "========== Testing Data\n",
      "        Col1  Col2          Col3          Col4          Col5          Col6  \\\n",
      "0    RIGHGSN     1  1.086711e+04  8.648345e+03  1.576618e+04  2.890466e+04   \n",
      "1  RIMHI5ZGP     0  2.584312e+05  2.179633e+05  1.866287e+05  1.866287e+05   \n",
      "2  RIHOG1SZU     0  1.459355e+07  1.260060e+07  1.100315e+07  1.010315e+07   \n",
      "3  RIHOLMQWU     0  6.727043e+05  8.181116e+05  6.794893e+05  6.794893e+05   \n",
      "4  RIHO584ET     0 -1.218742e+06 -3.005361e+06 -1.666241e+05 -2.403574e+06   \n",
      "\n",
      "           Col7          Col8          Col9         Col10   ...     Col2388  \\\n",
      "0  5.273655e+03  2.346153e+04  1.285597e+04  2.871509e+04   ...           0   \n",
      "1  2.154519e+05  1.923615e+05  1.726538e+05  1.666974e+05   ...           0   \n",
      "2  1.879882e+07  1.514035e+07  5.320778e+06  6.906324e+06   ...           0   \n",
      "3  8.257254e+05  7.605803e+05  3.577134e+05  4.236612e+05   ...           0   \n",
      "4  2.583183e+06  2.086546e+06  5.938358e+06  5.446532e+06   ...           0   \n",
      "\n",
      "   Col2389  Col2390  Col2391  Col2392  Col2393  Col2394  Col2395  Col2396  \\\n",
      "0        1        0        1    214.0    214.0     68.0     22.0     22.0   \n",
      "1        0        0        0     41.0     41.0     38.0     12.0     12.0   \n",
      "2        1        1        0    378.0    378.0    310.0     21.0     21.0   \n",
      "3        0        0        0    702.0    702.0    644.0    951.0    951.0   \n",
      "4        0        0        0   1305.0   1305.0   1211.0   2205.0   2205.0   \n",
      "\n",
      "   Col2397  \n",
      "0      7.0  \n",
      "1     11.0  \n",
      "2     16.0  \n",
      "3    743.0  \n",
      "4   1831.0  \n",
      "\n",
      "[5 rows x 2395 columns]\n"
     ]
    }
   ],
   "source": [
    "print('='*10, 'Training Data')\n",
    "print(bank_train.head())\n",
    "\n",
    "print('='*10, 'Testing Data')\n",
    "print(bank_train.head())"
   ]
  },
  {
   "cell_type": "markdown",
   "metadata": {},
   "source": [
    "## Function Creation\n",
    "Created function to load data to csv file: create_csv_test\n",
    "\n",
    "Created function to do feature scaling on the data and get the records in numerical and scaled format: feature_scale\n",
    "\n",
    "Function to get the data score: get_score_report"
   ]
  },
  {
   "cell_type": "code",
   "execution_count": 4,
   "metadata": {},
   "outputs": [],
   "source": [
    "def create_csv_test(alg,filename,X_bank_test):\n",
    "    #Load imputer function tohandle categorical data\n",
    "    imputer = Imputer(strategy='most_frequent')\n",
    "    X_bank_test = imputer.fit_transform(X_bank_test)\n",
    "    \n",
    "    #Do feature scaling on the data\n",
    "    sc= StandardScaler()\n",
    "    X_bank_test_scaled = sc.fit_transform(X_bank_test)\n",
    "    \n",
    "    #Apply model in the testing data provided in Test.csv\n",
    "    predicted_col = alg.predict(X_bank_test_scaled)\n",
    "    bank_test['Col2'] =predicted_col\n",
    "    new_submission = bank_test[['Col1','Col2']]\n",
    "    \n",
    "    #print(new_submission.head())\n",
    "    new_submission.to_csv(filename, index=False)"
   ]
  },
  {
   "cell_type": "code",
   "execution_count": 5,
   "metadata": {},
   "outputs": [],
   "source": [
    "def feature_scale(df,predictors):\n",
    "    \n",
    "    #target = df['Col2']\n",
    "    X = df[predictors].astype(float)\n",
    "\n",
    "    imputer = Imputer(strategy='most_frequent')\n",
    "    transformed_values = imputer.fit_transform(X)\n",
    "    X=transformed_values\n",
    "    \n",
    "    sc= StandardScaler()\n",
    "    X_scaled = sc.fit_transform(X)\n",
    "    \n",
    "    return X_scaled"
   ]
  },
  {
   "cell_type": "code",
   "execution_count": 6,
   "metadata": {},
   "outputs": [],
   "source": [
    "def get_score_report(alg,X_test,y_test):\n",
    "    y_predict=alg.predict(X_test)\n",
    "    print(y_predict)\n",
    "    print('*'*15,'Classification Report','*'*15)\n",
    "    print('\\n')\n",
    "    print(classification_report(y_test,y_predict))\n",
    "    print('*'*15,'Accuracy Score','*'*15)\n",
    "    print(accuracy_score(y_test,y_predict))   \n",
    "    print('*'*15,'Confussion Matrix','*'*15)\n",
    "    print(confusion_matrix(y_test,y_predict))\n",
    "    print('*'*15,'F1 Score','*'*15)\n",
    "    print(f1_score(y_test,y_predict))\n",
    "    "
   ]
  },
  {
   "cell_type": "markdown",
   "metadata": {},
   "source": [
    "Get the columns from testing data which has datatype as object"
   ]
  },
  {
   "cell_type": "code",
   "execution_count": null,
   "metadata": {},
   "outputs": [],
   "source": []
  },
  {
   "cell_type": "code",
   "execution_count": 7,
   "metadata": {},
   "outputs": [
    {
     "name": "stdout",
     "output_type": "stream",
     "text": [
      "Col1\n",
      "Col702\n",
      "Col733\n",
      "Col742\n",
      "Col754\n",
      "Col763\n",
      "Col791\n",
      "Col813\n",
      "Col822\n",
      "Col831\n",
      "Col843\n",
      "Col852\n"
     ]
    }
   ],
   "source": [
    "tst_features=[]\n",
    "for feat in bank_test.columns:\n",
    "  if bank_test[feat].dtype == 'object':\n",
    "    tst_features.append(feat)\n",
    "    print(feat)"
   ]
  },
  {
   "cell_type": "markdown",
   "metadata": {},
   "source": [
    "### Trainign Data\n",
    "To get the important features from all the columns apply random forrest model on top of the trainng and testing data created above"
   ]
  },
  {
   "cell_type": "code",
   "execution_count": 8,
   "metadata": {},
   "outputs": [],
   "source": [
    "target = bank_train['Col2']\n",
    "X = bank_train.drop(['Col747','Col836','Col2'], axis=1)\n",
    "X = X.drop(tst_features,axis=1).astype(float)\n",
    "\n",
    "features = [xcols for xcols in X.columns if xcols != 'Col1']\n",
    "\n",
    "imputer = Imputer()\n",
    "X_imputed = imputer.fit_transform(X)\n",
    "\n",
    "sc= StandardScaler()\n",
    "X_scaled = sc.fit_transform(X_imputed)\n",
    "\n",
    "\n",
    "X_train, X_test, y_train, y_test = train_test_split(X_scaled, target,test_size=0.33,\n",
    "                                                    random_state=42)"
   ]
  },
  {
   "cell_type": "code",
   "execution_count": 9,
   "metadata": {},
   "outputs": [
    {
     "data": {
      "text/plain": [
       "RandomForestClassifier(bootstrap=True, class_weight=None, criterion='gini',\n",
       "            max_depth=None, max_features='auto', max_leaf_nodes=None,\n",
       "            min_impurity_decrease=0.0, min_impurity_split=None,\n",
       "            min_samples_leaf=1, min_samples_split=2,\n",
       "            min_weight_fraction_leaf=0.0, n_estimators=10, n_jobs=1,\n",
       "            oob_score=False, random_state=None, verbose=0,\n",
       "            warm_start=False)"
      ]
     },
     "execution_count": 9,
     "metadata": {},
     "output_type": "execute_result"
    }
   ],
   "source": [
    "model_rf = RandomForestClassifier()\n",
    "model_rf.fit(X_train,y_train)"
   ]
  },
  {
   "cell_type": "code",
   "execution_count": 10,
   "metadata": {},
   "outputs": [
    {
     "name": "stdout",
     "output_type": "stream",
     "text": [
      "[0 0 0 ... 0 0 0]\n",
      "*************** Classification Report ***************\n",
      "\n",
      "\n",
      "             precision    recall  f1-score   support\n",
      "\n",
      "          0       0.90      0.99      0.95      5211\n",
      "          1       0.35      0.04      0.07       571\n",
      "\n",
      "avg / total       0.85      0.90      0.86      5782\n",
      "\n",
      "*************** Accuracy Score ***************\n",
      "0.898132134209616\n",
      "*************** Confussion Matrix ***************\n",
      "[[5171   40]\n",
      " [ 549   22]]\n",
      "*************** F1 Score ***************\n",
      "0.06951026856240126\n"
     ]
    }
   ],
   "source": [
    "get_score_report(model_rf,X_test,y_test)"
   ]
  },
  {
   "cell_type": "code",
   "execution_count": 11,
   "metadata": {},
   "outputs": [
    {
     "data": {
      "image/png": "[encoded data removed]",
      "text/plain": [
       "<Figure size 432x288 with 1 Axes>"
      ]
     },
     "metadata": {
      "needs_background": "light"
     },
     "output_type": "display_data"
    }
   ],
   "source": [
    "plt.bar(range(len(model_rf.feature_importances_)), model_rf.feature_importances_)\n",
    "plt.show()"
   ]
  },
  {
   "cell_type": "code",
   "execution_count": 12,
   "metadata": {},
   "outputs": [
    {
     "name": "stdout",
     "output_type": "stream",
     "text": [
      "1851\n"
     ]
    }
   ],
   "source": [
    "imp_predictors = []\n",
    "threshold =0.0\n",
    "for i,j in enumerate(model_rf.feature_importances_):\n",
    "    if j > threshold:\n",
    "        imp_predictors.append(i)\n",
    "print(len(imp_predictors))"
   ]
  },
  {
   "cell_type": "code",
   "execution_count": 13,
   "metadata": {},
   "outputs": [
    {
     "data": {
      "image/png": "[encoded data removed]",
      "text/plain": [
       "<Figure size 432x288 with 1 Axes>"
      ]
     },
     "metadata": {
      "needs_background": "light"
     },
     "output_type": "display_data"
    }
   ],
   "source": [
    "plt.bar(range(len(imp_predictors)), imp_predictors)\n",
    "plt.show()"
   ]
  },
  {
   "cell_type": "code",
   "execution_count": 14,
   "metadata": {},
   "outputs": [],
   "source": [
    "features = [xcols for xcols in X.columns if xcols != 'Col1']"
   ]
  },
  {
   "cell_type": "code",
   "execution_count": 15,
   "metadata": {},
   "outputs": [],
   "source": [
    "predictors = [features[feat] for feat in imp_predictors ]\n",
    "#for feat in imp_predictors:\n",
    "    #print(features[feat])\n",
    "    #predictors.append(features[feat])\n",
    "    #print(predictors)"
   ]
  },
  {
   "cell_type": "code",
   "execution_count": 16,
   "metadata": {},
   "outputs": [
    {
     "data": {
      "text/plain": [
       "1851"
      ]
     },
     "execution_count": 16,
     "metadata": {},
     "output_type": "execute_result"
    }
   ],
   "source": [
    "len(predictors)"
   ]
  },
  {
   "cell_type": "code",
   "execution_count": 17,
   "metadata": {},
   "outputs": [
    {
     "name": "stdout",
     "output_type": "stream",
     "text": [
      "(17521, 1851)\n"
     ]
    }
   ],
   "source": [
    "X_new = feature_scale(bank_train, predictors)\n",
    "print(X_new.shape)"
   ]
  },
  {
   "cell_type": "code",
   "execution_count": 18,
   "metadata": {},
   "outputs": [],
   "source": [
    "def model_clf(alg,dtrain,target,predictors):\n",
    "    #Get the important features from the training dataframe\n",
    "    X_new = feature_scale(bank_train, predictors)\n",
    "    #Split the data in training and testing\n",
    "    X_train, X_test, y_train, y_test = train_test_split(X_new, target,test_size=0.2,\n",
    "                                                    random_state=42)\n",
    "    #Fit the algorithm on training and testing data\n",
    "    alg.fit(X_train,y_train)\n",
    "    \n",
    "    #Get the report based on test data:\n",
    "    get_score_report(alg,X_test,y_test)\n",
    "    \n",
    "    #print total misclassfied sample\n",
    "    y_pred = alg.predict(X_test)\n",
    "    print('Misclassified samples: %d' % (y_test != y_pred).sum())\n",
    "    \n",
    "    return alg"
   ]
  },
  {
   "cell_type": "code",
   "execution_count": 30,
   "metadata": {},
   "outputs": [
    {
     "data": {
      "text/plain": [
       "RandomForestClassifier(bootstrap=True, class_weight=None, criterion='gini',\n",
       "            max_depth=None, max_features='auto', max_leaf_nodes=None,\n",
       "            min_impurity_decrease=0.0, min_impurity_split=None,\n",
       "            min_samples_leaf=1, min_samples_split=2,\n",
       "            min_weight_fraction_leaf=0.0, n_estimators=10, n_jobs=1,\n",
       "            oob_score=False, random_state=None, verbose=0,\n",
       "            warm_start=False)"
      ]
     },
     "execution_count": 30,
     "metadata": {},
     "output_type": "execute_result"
    }
   ],
   "source": [
    "model_rf_1 = RandomForestClassifier()\n",
    "model_rf_1"
   ]
  },
  {
   "cell_type": "code",
   "execution_count": 32,
   "metadata": {},
   "outputs": [],
   "source": [
    "#Add grid Search Logic:\n",
    "param_grid=dict(bootstrap =[True,False],\n",
    "                max_depth =[1,3,5],\n",
    "                #min_samples_leaf=[1,3,5,7],\n",
    "                n_estimators =[2,4,6],\n",
    "                class_weight=['balanced',None]\n",
    "               )\n",
    "\n",
    "model_grid = GridSearchCV(estimator=model_rf_1, cv=5, param_grid=param_grid)"
   ]
  },
  {
   "cell_type": "code",
   "execution_count": 31,
   "metadata": {},
   "outputs": [
    {
     "name": "stdout",
     "output_type": "stream",
     "text": [
      "[0 0 0 ... 0 0 0]\n",
      "*************** Classification Report ***************\n",
      "\n",
      "\n",
      "             precision    recall  f1-score   support\n",
      "\n",
      "          0       0.90      0.99      0.95      3150\n",
      "          1       0.49      0.07      0.12       355\n",
      "\n",
      "avg / total       0.86      0.90      0.86      3505\n",
      "\n",
      "*************** Accuracy Score ***************\n",
      "0.8984308131241084\n",
      "*************** Confussion Matrix ***************\n",
      "[[3124   26]\n",
      " [ 330   25]]\n",
      "*************** F1 Score ***************\n",
      "0.12315270935960593\n",
      "Misclassified samples: 356\n"
     ]
    }
   ],
   "source": [
    "alg=model_clf(model_rf_1, bank_train, target, predictors)"
   ]
  },
  {
   "cell_type": "code",
   "execution_count": 33,
   "metadata": {},
   "outputs": [
    {
     "name": "stdout",
     "output_type": "stream",
     "text": [
      "[0 0 0 ... 0 0 0]\n",
      "*************** Classification Report ***************\n",
      "\n",
      "\n",
      "             precision    recall  f1-score   support\n",
      "\n",
      "          0       0.90      1.00      0.95      3150\n",
      "          1       0.56      0.01      0.03       355\n",
      "\n",
      "avg / total       0.87      0.90      0.85      3505\n",
      "\n",
      "*************** Accuracy Score ***************\n",
      "0.8990014265335236\n",
      "*************** Confussion Matrix ***************\n",
      "[[3146    4]\n",
      " [ 350    5]]\n",
      "*************** F1 Score ***************\n",
      "0.027472527472527472\n",
      "Misclassified samples: 354\n"
     ]
    }
   ],
   "source": [
    "alg=model_clf(model_grid, bank_train, target, predictors)"
   ]
  },
  {
   "cell_type": "code",
   "execution_count": 34,
   "metadata": {},
   "outputs": [
    {
     "data": {
      "text/plain": [
       "{'bootstrap': False, 'class_weight': None, 'max_depth': 5, 'n_estimators': 4}"
      ]
     },
     "execution_count": 34,
     "metadata": {},
     "output_type": "execute_result"
    }
   ],
   "source": [
    "alg.best_params_"
   ]
  },
  {
   "cell_type": "code",
   "execution_count": 41,
   "metadata": {},
   "outputs": [],
   "source": [
    "X_bank_test =feature_scale(bank_test,predictors) \n",
    "create_csv_test(alg,'submission_rand_forr.csv', X_bank_test)"
   ]
  },
  {
   "cell_type": "code",
   "execution_count": 51,
   "metadata": {},
   "outputs": [],
   "source": [
    "X_bank_test =feature_scale(bank_test,predictors) \n",
    "create_csv_test(alg,'submission_rand_gd.csv', X_bank_test)"
   ]
  },
  {
   "cell_type": "code",
   "execution_count": 52,
   "metadata": {},
   "outputs": [
    {
     "data": {
      "text/plain": [
       "{'bootstrap': False, 'class_weight': None, 'max_depth': 5, 'n_estimators': 6}"
      ]
     },
     "execution_count": 52,
     "metadata": {},
     "output_type": "execute_result"
    }
   ],
   "source": [
    "model_grid.best_params_"
   ]
  },
  {
   "cell_type": "code",
   "execution_count": 53,
   "metadata": {},
   "outputs": [
    {
     "data": {
      "text/plain": [
       "0.900185502283105"
      ]
     },
     "execution_count": 53,
     "metadata": {},
     "output_type": "execute_result"
    }
   ],
   "source": [
    "model_grid.best_score_"
   ]
  },
  {
   "cell_type": "code",
   "execution_count": 55,
   "metadata": {},
   "outputs": [],
   "source": [
    "#Add grid Search Logic:\n",
    "param_grid=dict(bootstrap =[False],\n",
    "                max_depth =[5,7,9],\n",
    "                #min_samples_leaf=[1,3,5,7],\n",
    "                n_estimators =[6,7,8]\n",
    "               )\n",
    "\n",
    "model_grid2 = GridSearchCV(estimator=model_rf, cv=5, param_grid=param_grid)"
   ]
  },
  {
   "cell_type": "code",
   "execution_count": 56,
   "metadata": {},
   "outputs": [
    {
     "name": "stdout",
     "output_type": "stream",
     "text": [
      "[0 0 0 ... 0 0 0]\n",
      "*************** Classification Report ***************\n",
      "\n",
      "\n",
      "             precision    recall  f1-score   support\n",
      "\n",
      "          0       0.90      1.00      0.95      3150\n",
      "          1       0.55      0.02      0.03       355\n",
      "\n",
      "avg / total       0.86      0.90      0.85      3505\n",
      "\n",
      "*************** Accuracy Score ***************\n",
      "0.8990014265335236\n",
      "*************** Confussion Matrix ***************\n",
      "[[3145    5]\n",
      " [ 349    6]]\n",
      "*************** F1 Score ***************\n",
      "0.03278688524590164\n",
      "Misclassified samples: 354\n"
     ]
    }
   ],
   "source": [
    "alg=model_clf(model_grid2, bank_train, target, predictors)"
   ]
  },
  {
   "cell_type": "code",
   "execution_count": null,
   "metadata": {},
   "outputs": [],
   "source": [
    "model_grid2.best_params_"
   ]
  },
  {
   "cell_type": "code",
   "execution_count": 63,
   "metadata": {},
   "outputs": [
    {
     "name": "stdout",
     "output_type": "stream",
     "text": [
      "[0 0 0 ... 0 0 0]\n",
      "*************** Classification Report ***************\n",
      "\n",
      "\n",
      "             precision    recall  f1-score   support\n",
      "\n",
      "          0       0.90      0.95      0.93      3150\n",
      "          1       0.21      0.11      0.15       355\n",
      "\n",
      "avg / total       0.83      0.87      0.85      3505\n",
      "\n",
      "*************** Accuracy Score ***************\n",
      "0.8670470756062767\n",
      "*************** Confussion Matrix ***************\n",
      "[[2999  151]\n",
      " [ 315   40]]\n",
      "*************** F1 Score ***************\n",
      "0.1465201465201465\n",
      "Misclassified samples: 466\n"
     ]
    }
   ],
   "source": [
    "model_lr = LogisticRegression(C=500)\n",
    "alg=model_clf(model_lr, bank_train, target, predictors)"
   ]
  },
  {
   "cell_type": "code",
   "execution_count": 60,
   "metadata": {},
   "outputs": [],
   "source": [
    "X_bank_test =feature_scale(bank_test,predictors) \n",
    "create_csv_test(alg,'submission_log_reg_C.csv', X_bank_test)"
   ]
  },
  {
   "cell_type": "code",
   "execution_count": 27,
   "metadata": {},
   "outputs": [],
   "source": [
    "model1 = DecisionTreeClassifier(random_state=1)\n",
    "model2 = KNeighborsClassifier()\n",
    "model3= LogisticRegression(random_state=1)"
   ]
  },
  {
   "cell_type": "code",
   "execution_count": 28,
   "metadata": {},
   "outputs": [
    {
     "name": "stdout",
     "output_type": "stream",
     "text": [
      "***Decision Tree***\n",
      "***KNN ***\n",
      "[0 0 0 ... 0 0 0]\n",
      "*************** Classification Report ***************\n",
      "\n",
      "\n",
      "             precision    recall  f1-score   support\n",
      "\n",
      "          0       0.90      0.99      0.94      3150\n",
      "          1       0.30      0.03      0.05       355\n",
      "\n",
      "avg / total       0.84      0.90      0.85      3505\n",
      "\n",
      "*************** Accuracy Score ***************\n",
      "0.8952924393723253\n",
      "*************** Confussion Matrix ***************\n",
      "[[3129   21]\n",
      " [ 346    9]]\n",
      "*************** F1 Score ***************\n",
      "0.04675324675324675\n",
      "Misclassified samples: 367\n",
      "*** Log Reg***\n"
     ]
    }
   ],
   "source": [
    "print(\"***Decision Tree***\")\n",
    "#model1=model_clf(model1, bank_train, target, predictors)\n",
    "print(\"***KNN ***\")\n",
    "model2=model_clf(model2, bank_train, target, predictors)\n",
    "print(\"*** Log Reg***\")\n",
    "#model3=model_clf(model3, bank_train, target, predictors)"
   ]
  },
  {
   "cell_type": "code",
   "execution_count": 20,
   "metadata": {},
   "outputs": [
    {
     "name": "stderr",
     "output_type": "stream",
     "text": [
      "/anaconda3/envs/python-cvcourse/lib/python3.6/site-packages/sklearn/preprocessing/label.py:151: DeprecationWarning: The truth value of an empty array is ambiguous. Returning False, but in future this will result in an error. Use `array.size > 0` to check that an array is not empty.\n",
      "  if diff:\n"
     ]
    },
    {
     "name": "stdout",
     "output_type": "stream",
     "text": [
      "[0 0 0 ... 0 0 0]\n",
      "*************** Classification Report ***************\n",
      "\n",
      "\n",
      "             precision    recall  f1-score   support\n",
      "\n",
      "          0       0.90      0.98      0.94      3150\n",
      "          1       0.28      0.06      0.11       355\n",
      "\n",
      "avg / total       0.84      0.89      0.86      3505\n",
      "\n",
      "*************** Accuracy Score ***************\n",
      "0.8884450784593438\n",
      "*************** Confussion Matrix ***************\n",
      "[[3091   59]\n",
      " [ 332   23]]\n",
      "*************** F1 Score ***************\n",
      "0.10526315789473684\n",
      "Misclassified samples: 391\n"
     ]
    },
    {
     "name": "stderr",
     "output_type": "stream",
     "text": [
      "/anaconda3/envs/python-cvcourse/lib/python3.6/site-packages/sklearn/preprocessing/label.py:151: DeprecationWarning: The truth value of an empty array is ambiguous. Returning False, but in future this will result in an error. Use `array.size > 0` to check that an array is not empty.\n",
      "  if diff:\n"
     ]
    }
   ],
   "source": [
    "from sklearn.ensemble import VotingClassifier\n",
    "model_vote = VotingClassifier(estimators=[('lr', model3), ('dt', model1), ('kn', model2)], voting='soft')\n",
    "model_vote = model_clf(model_vote, bank_train, target, predictors)"
   ]
  },
  {
   "cell_type": "code",
   "execution_count": 24,
   "metadata": {},
   "outputs": [
    {
     "data": {
      "text/plain": [
       "[LogisticRegression(C=1.0, class_weight=None, dual=False, fit_intercept=True,\n",
       "           intercept_scaling=1, max_iter=100, multi_class='ovr', n_jobs=1,\n",
       "           penalty='l2', random_state=1, solver='liblinear', tol=0.0001,\n",
       "           verbose=0, warm_start=False),\n",
       " DecisionTreeClassifier(class_weight=None, criterion='gini', max_depth=None,\n",
       "             max_features=None, max_leaf_nodes=None,\n",
       "             min_impurity_decrease=0.0, min_impurity_split=None,\n",
       "             min_samples_leaf=1, min_samples_split=2,\n",
       "             min_weight_fraction_leaf=0.0, presort=False, random_state=1,\n",
       "             splitter='best'),\n",
       " KNeighborsClassifier(algorithm='auto', leaf_size=30, metric='minkowski',\n",
       "            metric_params=None, n_jobs=1, n_neighbors=5, p=2,\n",
       "            weights='uniform')]"
      ]
     },
     "execution_count": 24,
     "metadata": {},
     "output_type": "execute_result"
    }
   ],
   "source": [
    "model_vote.estimators_"
   ]
  },
  {
   "cell_type": "code",
   "execution_count": 25,
   "metadata": {},
   "outputs": [
    {
     "data": {
      "text/plain": [
       "'soft'"
      ]
     },
     "execution_count": 25,
     "metadata": {},
     "output_type": "execute_result"
    }
   ],
   "source": [
    "model_vote.voting"
   ]
  },
  {
   "cell_type": "code",
   "execution_count": 26,
   "metadata": {},
   "outputs": [
    {
     "name": "stderr",
     "output_type": "stream",
     "text": [
      "/anaconda3/envs/python-cvcourse/lib/python3.6/site-packages/sklearn/preprocessing/label.py:151: DeprecationWarning: The truth value of an empty array is ambiguous. Returning False, but in future this will result in an error. Use `array.size > 0` to check that an array is not empty.\n",
      "  if diff:\n"
     ]
    }
   ],
   "source": [
    "X_bank_test =feature_scale(bank_test,predictors) \n",
    "create_csv_test(model_vote,'submission_vote3.csv', X_bank_test)"
   ]
  },
  {
   "cell_type": "code",
   "execution_count": 29,
   "metadata": {},
   "outputs": [],
   "source": [
    "X_bank_test =feature_scale(bank_test,predictors) \n",
    "create_csv_test(model2,'submission_vknn.csv', X_bank_test)"
   ]
  },
  {
   "cell_type": "code",
   "execution_count": null,
   "metadata": {},
   "outputs": [],
   "source": [
    "from sklearn.ensemble import BaggingClassifier\n",
    "model_bag = BaggingClassifier(DecisionTreeClassifier(random_state=1))\n",
    "model_bag=model_clf(model_bag, bank_train, target, predictors)"
   ]
  },
  {
   "cell_type": "code",
   "execution_count": 39,
   "metadata": {},
   "outputs": [
    {
     "name": "stdout",
     "output_type": "stream",
     "text": [
      "[0 0 0 ... 0 0 0]\n",
      "*************** Classification Report ***************\n",
      "\n",
      "\n",
      "             precision    recall  f1-score   support\n",
      "\n",
      "          0       0.90      0.98      0.94      3150\n",
      "          1       0.34      0.07      0.12       355\n",
      "\n",
      "avg / total       0.85      0.89      0.86      3505\n",
      "\n",
      "*************** Accuracy Score ***************\n",
      "0.891583452211127\n",
      "*************** Confussion Matrix ***************\n",
      "[[3099   51]\n",
      " [ 329   26]]\n",
      "*************** F1 Score ***************\n",
      "0.12037037037037036\n",
      "Misclassified samples: 380\n"
     ]
    }
   ],
   "source": [
    "from sklearn.ensemble import AdaBoostClassifier\n",
    "model_ad = AdaBoostClassifier(random_state=1)\n",
    "model_ad=model_clf(model_ad, bank_train, target, predictors)"
   ]
  },
  {
   "cell_type": "code",
   "execution_count": 38,
   "metadata": {},
   "outputs": [
    {
     "data": {
      "text/plain": [
       "0.901245243860256"
      ]
     },
     "execution_count": 38,
     "metadata": {},
     "output_type": "execute_result"
    }
   ],
   "source": [
    "from sklearn.ensemble import GradientBoostingClassifier\n",
    "model= GradientBoostingClassifier(learning_rate=0.001,random_state=1)\n",
    "model.fit(X_train, y_train)\n",
    "model.score(X_test,y_test)"
   ]
  },
  {
   "cell_type": "code",
   "execution_count": 37,
   "metadata": {},
   "outputs": [
    {
     "name": "stdout",
     "output_type": "stream",
     "text": [
      "[0 0 0 ... 0 0 0]\n",
      "*************** Classification Report ***************\n",
      "\n",
      "\n",
      "             precision    recall  f1-score   support\n",
      "\n",
      "          0       0.91      0.99      0.95      5211\n",
      "          1       0.43      0.09      0.16       571\n",
      "\n",
      "avg / total       0.86      0.90      0.87      5782\n",
      "\n",
      "*************** Accuracy Score ***************\n",
      "0.8983050847457628\n",
      "*************** Confussion Matrix ***************\n",
      "[[5140   71]\n",
      " [ 517   54]]\n",
      "*************** F1 Score ***************\n",
      "0.15517241379310345\n"
     ]
    }
   ],
   "source": [
    "get_score_report(model,X_test,y_test)"
   ]
  },
  {
   "cell_type": "code",
   "execution_count": null,
   "metadata": {},
   "outputs": [],
   "source": []
  }
 ],
 "metadata": {
  "kernelspec": {
   "display_name": "Python 3",
   "language": "python",
   "name": "python3"
  },
  "language_info": {
   "codemirror_mode": {
    "name": "ipython",
    "version": 3
   },
   "file_extension": ".py",
   "mimetype": "text/x-python",
   "name": "python",
   "nbconvert_exporter": "python",
   "pygments_lexer": "ipython3",
   "version": "3.6.6"
  }
 },
 "nbformat": 4,
 "nbformat_minor": 2
}
